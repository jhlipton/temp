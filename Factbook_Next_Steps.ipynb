{
 "cells": [
  {
   "cell_type": "markdown",
   "metadata": {},
   "source": [
    "# Exploring the CIA World Factbook\n",
    "\n",
    "In the DataQuest mission _**Guided Project: Working With a SQLite Database**_, there are three next steps to explore using the CIA World  Factbook (https://www.cia.gov/library/publications/the-world-factbook/):\n",
    "    * Which countries will lose population over the next 35 years?\n",
    "    * Which countries have the lowest and highest population densities?\n",
    "    * Which countries receive the most immigrants? Which countries lose the most emigrants?\n",
    "    \n",
    "The data was originally loaded from \"The World Factbook\": https://github.com/factbook/factbook.sql/releases\n",
    "\n",
    "However, I noticed that population_growth and migration_rate did not have any negative values. I downloaded the correct data from the CIA website (population growth(https://www.cia.gov/library/publications/the-world-factbook/fields/2002.html#ic) and migration rates (https://www.cia.gov/library/publications/the-world-factbook/fields/2112.html#ic) and reset these fields accordingly. The updated database is here in factbook.db.\n"
   ]
  },
  {
   "cell_type": "code",
   "execution_count": 1,
   "metadata": {
    "collapsed": true
   },
   "outputs": [],
   "source": [
    "#Import the needed modules\n",
    "import sqlite3\n",
    "import math\n",
    "import pandas as pd"
   ]
  },
  {
   "cell_type": "code",
   "execution_count": 2,
   "metadata": {
    "collapsed": true
   },
   "outputs": [],
   "source": [
    "#Define a function for population growth\n",
    "def predict_growth(row, years):\n",
    "    n = row[\"population\"]*(math.e**((row[\"population_growth\"]/100)*years))\n",
    "    return int(round(n,0))"
   ]
  },
  {
   "cell_type": "code",
   "execution_count": 3,
   "metadata": {
    "collapsed": true
   },
   "outputs": [],
   "source": [
    "# Connect to the database one time for all steps\n",
    "conn = sqlite3.connect(\"factbook.db\")"
   ]
  },
  {
   "cell_type": "markdown",
   "metadata": {},
   "source": [
    "## Which countries will lose population over the next 35 years?\n",
    "\n",
    "\n",
    "The formula for compound annual population growth is:\n",
    "![growth rate](http://bit.ly/2xtnMfH)\n",
    "Where ![N](http://bit.ly/2xtq8ex) is the final population; ![N.sub-zero](http://bit.ly/2fgJR7f) is the initial population, _e_  is the math constant, r is the growth rate and t is the number of years we want to project out\n",
    "\n",
    "\n",
    "- Read in the name of the country, the current population and the population growth\n",
    "  - Filter out null data \n",
    "  - Filter out the World and the European Union\n",
    "  - Order by growth\n",
    "- Use pandas' SQL Reader to run the query\n",
    "- Use numpy's apply (built into pandas) to run the formula for each row and insert in a new column\n",
    "- Print the 5 countries with the highest population, and the 5 countries with the lowest population"
   ]
  },
  {
   "cell_type": "code",
   "execution_count": 4,
   "metadata": {},
   "outputs": [
    {
     "name": "stdout",
     "output_type": "stream",
     "text": [
      "The countries with the highest and lowest populations are:\n",
      "            name  population  population_growth  new_population\n",
      "0          China  1367485388              0.004      1369401208\n",
      "1          India  1251695584              0.012      1256963761\n",
      "2  United States   321368864              0.008       322269958\n",
      "3      Indonesia   255993674              0.009       256801325\n",
      "4         Brazil   204259812              0.007       204760862 \n",
      "\n",
      "                        name  population  population_growth  new_population\n",
      "229                  Tokelau        1337               0.01            1342\n",
      "230                     Niue        1190               0.03            1203\n",
      "231  Holy See (Vatican City)         842               0.00             842\n",
      "232  Cocos (Keeling) Islands         596               0.00             596\n",
      "233         Pitcairn Islands          48               0.00              48\n"
     ]
    }
   ],
   "source": [
    "condition_list = [\"name\", \"population\", \"population_growth\"]\n",
    "num_of_conds = len(condition_list)\n",
    "\n",
    "query = \"select name, population, population_growth from facts where (\"\n",
    "for idx in range(num_of_conds):\n",
    "    if idx == 0:\n",
    "        query += condition_list[idx]+\" is not null \"\n",
    "    else:\n",
    "        query += \" and \"+condition_list[idx]+\" is not null \"\n",
    "        \n",
    "query +=  \") and code != 'ee' and code != 'xx' \"\n",
    "query += \" order by population desc;\"\n",
    "growth_df=pd.read_sql_query(query,conn)\n",
    "\n",
    "growth_df[\"new_population\"] = growth_df.apply(predict_growth, axis= 1, args=(35,))\n",
    "last_rows = len(growth_df) - 5\n",
    "\n",
    "print (\"The countries with the highest and lowest populations are:\")\n",
    "print (growth_df.iloc[0:5], '\\n')\n",
    "print (growth_df.iloc[last_rows:])"
   ]
  },
  {
   "cell_type": "markdown",
   "metadata": {},
   "source": [
    "## Which countries have the lowest and highest population densities?\n",
    "\n",
    "\n",
    "- Read in the name of the country, the current population and the land area\n",
    "  - Filter out null and zero data \n",
    "  - Filter out the World and the European Union\n",
    "  - Order by density\n",
    "- Use pandas' SQL Reader to run the query\n",
    "- Use pandas to calculate density\n",
    "- Print the 5 countries with the highest densities, and the 5 countries with the lowest densities"
   ]
  },
  {
   "cell_type": "code",
   "execution_count": 5,
   "metadata": {},
   "outputs": [
    {
     "name": "stdout",
     "output_type": "stream",
     "text": [
      "The countries with the highest and lowest densities are:\n",
      "         name  population  area_land   pop_density\n",
      "0       Macau      592731         28  21168.964286\n",
      "1      Monaco       30535          2  15267.500000\n",
      "2   Singapore     5674472        687   8259.784571\n",
      "3   Hong Kong     7141106       1073   6655.271202\n",
      "4  Gaza Strip     1869055        360   5191.819444 \n",
      "\n",
      "                                  name  population  area_land  pop_density\n",
      "227                           Mongolia     2992908    1553556     1.926489\n",
      "228                   Pitcairn Islands          48         47     1.021277\n",
      "229                          Greenland       57733    2166086     0.026653\n",
      "230                           Svalbard        1872      62045     0.030172\n",
      "231  Falkland Islands (Islas Malvinas)        3361      12173     0.276103\n"
     ]
    }
   ],
   "source": [
    "condition_list = [\"area_land\", \"population\"]\n",
    "num_of_conds = len(condition_list)\n",
    "\n",
    "query = \"select name, population, area_land from facts where (\"\n",
    "for idx in range(num_of_conds):\n",
    "    if idx == 0:\n",
    "        query = query + \"(\"+condition_list[idx]+\" is not null and \"+ condition_list[idx]+\" > 0)\"\n",
    "    else:\n",
    "        query = query + \" and (\"+condition_list[idx]+\" is not null and \" + condition_list[idx]+\" > 0)\"\n",
    "        \n",
    "query +=  \") and code != 'ee' and code != 'xx' \"\n",
    "query += \" order by (population/area_land) desc;\"\n",
    "pop_area = pd.read_sql_query(query,conn) \n",
    "pop_area[\"pop_density\"] = pop_area[\"population\"]/pop_area[\"area_land\"]\n",
    "last_rows = len(pop_area)- 5\n",
    "\n",
    "print (\"The countries with the highest and lowest densities are:\")\n",
    "print (pop_area.iloc[0:5], '\\n')\n",
    "print (pop_area.iloc[last_rows:])"
   ]
  },
  {
   "cell_type": "markdown",
   "metadata": {},
   "source": [
    "## Which countries receive the most immigrants? Which countries lose the most emigrants?\n",
    "\n",
    "\n",
    "- Read in the name of the country and the migration rate\n",
    "  - Filter out null data \n",
    "  - Filter out the World and the European Union\n",
    "  - Order by migration rate\n",
    "- Use pandas' SQL Reader to run the query\n",
    "- Print the 5 countries with the highest migration rate, and the 5 countries with the lowest migration rate"
   ]
  },
  {
   "cell_type": "code",
   "execution_count": 6,
   "metadata": {},
   "outputs": [
    {
     "name": "stdout",
     "output_type": "stream",
     "text": [
      "Which countries receive the most immigrants?\n",
      "                     name  migration_rate\n",
      "0                   Syria            61.5\n",
      "1  British Virgin Islands            16.5\n",
      "2              Luxembourg            15.5\n",
      "3                   Qatar            14.6\n",
      "4          Cayman Islands            13.8 \n",
      "\n",
      "Which countries lose the most emigrants?:\n",
      "                                name  migration_rate\n",
      "218                      Puerto Rico           -16.9\n",
      "219                            Tonga           -17.8\n",
      "220                          Lebanon           -20.3\n",
      "221  Micronesia, Federated States of           -20.9\n",
      "222                   American Samoa           -26.7\n"
     ]
    }
   ],
   "source": [
    "condition_list = [\"migration_rate\"]\n",
    "num_of_conds = len(condition_list)\n",
    "\n",
    "query = \"select name, migration_rate from facts where ( migration_rate is not null\"\n",
    "query +=  \") and code != 'ee' and code != 'xx' \"\n",
    "query += \" order by migration_rate desc;\"\n",
    "mig_rates = pd.read_sql_query(query,conn) \n",
    "last_rows = len(mig_rates)-5\n",
    "\n",
    "print (\"Which countries receive the most immigrants?\")\n",
    "print (mig_rates.iloc[0:5], '\\n')\n",
    "print(\"Which countries lose the most emigrants?:\")\n",
    "print (mig_rates.iloc[last_rows:])"
   ]
  },
  {
   "cell_type": "code",
   "execution_count": null,
   "metadata": {
    "collapsed": true
   },
   "outputs": [],
   "source": [
    "#Close the connection -- we're done\n",
    "conn.close()"
   ]
  },
  {
   "cell_type": "markdown",
   "metadata": {},
   "source": [
    "## Final notes:\n",
    "\n",
    "I was surprised too.  A couple of things:\n",
    "\n",
    "- This is the rate per 1,000 people, not the total number\n",
    "- the rate was -113.51 migrant(s)/1,000 population in 2014 (the last year of data before 2017)\n",
    "- the rate was 61.5 migrant(s)/1,000 population in 2017.  \n",
    "      That's a huge jump especially in regards to the immigration crisis we hear so much about.\n",
    "\n",
    "I think Syria absorbed (and continues to absorb) refugees from Iraq, Iran and Lebanon.  This apparently more than compensates for the refugees leaving for Europe.\n",
    "\n",
    "The data may be wrong, but I don't know of any other source.  I might try and find an XML reader  so I can look at previous years more easily."
   ]
  }
 ],
 "metadata": {
  "kernelspec": {
   "display_name": "Python 3",
   "language": "python",
   "name": "python3"
  },
  "language_info": {
   "codemirror_mode": {
    "name": "ipython",
    "version": 3
   },
   "file_extension": ".py",
   "mimetype": "text/x-python",
   "name": "python",
   "nbconvert_exporter": "python",
   "pygments_lexer": "ipython3",
   "version": "3.6.1"
  }
 },
 "nbformat": 4,
 "nbformat_minor": 2
}
